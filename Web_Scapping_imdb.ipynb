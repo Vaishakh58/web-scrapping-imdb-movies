{
 "cells": [
  {
   "cell_type": "code",
   "execution_count": null,
   "metadata": {},
   "outputs": [],
   "source": [
    "import numpy as np\n",
    "import pandas as pd\n",
    "from urllib.request import urlopen\n",
    "from bs4 import BeautifulSoup"
   ]
  },
  {
   "cell_type": "markdown",
   "metadata": {},
   "source": [
    "### Request to access the webpage and creating the soup (contains the html of entire page)"
   ]
  },
  {
   "cell_type": "code",
   "execution_count": null,
   "metadata": {},
   "outputs": [],
   "source": [
    "url='https://www.imdb.com/chart/top?ref_=nv_mv_250'\n",
    "html=urlopen(url)\n",
    "soup=BeautifulSoup(html,'lxml')\n",
    "titles=soup.findAll('td',{'class':'titleColumn'})"
   ]
  },
  {
   "cell_type": "markdown",
   "metadata": {},
   "source": [
    "### Creating file to store data"
   ]
  },
  {
   "cell_type": "code",
   "execution_count": null,
   "metadata": {},
   "outputs": [],
   "source": [
    "filename1='IMDB1.csv'\n",
    "f=open(filename1,'w')\n",
    "head='Movie_name,Release_Year,link,Rating,Number_of_User,RunTime,Censor_Board_rating,Release_Date,Genre,Summary,Director,Writers,Star,Keywords,Budget,Opening_weekend,Gross_Col,Worldwide_Gross,Production\\n'\n",
    "f.write(head)"
   ]
  },
  {
   "cell_type": "code",
   "execution_count": null,
   "metadata": {},
   "outputs": [],
   "source": [
    "titles=soup.findAll('td',{'class':'titleColumn'})\n",
    "for title in range(len(titles)):\n",
    "    link = 'https://www.imdb.com'+titles[title].a['href']\n",
    "    \n",
    "    l=urlopen(link)\n",
    "    soup1=BeautifulSoup(l,'lxml')\n",
    "    \n",
    "    ny=soup1.h1.text.split(sep='\\xa0')\n",
    "    Movie_name = ny[0]   #Movie Name\n",
    "    Release_Year = ny[1].split('(')[1].split(')')[0] #Year\n",
    "    \n",
    "    rating=soup1.findAll('div',{'class':'ratingValue'})\n",
    "    r=rating[0].strong['title'].split()\n",
    "    Rating=r[0]  #rating\n",
    "    Number_of_User=r[3].replace(',','') #user_rating\n",
    "    \n",
    "    cb1=soup1.findAll('div',{'class':'subtext'})\n",
    "    RunTime=(cb1[0].time.text.strip())#runttime\n",
    "    Censor_Board_rating=(cb1[0].text.strip().split('|')[0].strip()) #Censor Board Rating\n",
    "    \n",
    "    cb=soup1.findAll('div',{'class':'title_wrapper'})\n",
    "    g=cb[0].div.findAll('a')\n",
    "\n",
    "    genre=''\n",
    "    year=''\n",
    "    for i in range(len(g)):\n",
    "        if '\\n' not in g[i].text:\n",
    "            genre+=g[i].text\n",
    "            if i!=len(g)-2:\n",
    "                genre+='|'\n",
    "        else:\n",
    "            year=g[i].text\n",
    "    Release_Date=(year.replace('\\n','')) #Released date\n",
    "    Genre=(genre) # Genre\n",
    "    \n",
    "    s=soup1.findAll('div',{'class':'summary_text'})\n",
    "    Summary=s[0].text.strip() #Summary\n",
    "    \n",
    "    d=soup1.findAll('div',{'class':'credit_summary_item'})\n",
    "    di=d[0].text.split('\\n')\n",
    "    Director=di[2] #Director\n",
    "    \n",
    "    w=d[1].findAll('a')\n",
    "    Writer=''\n",
    "    for i in range(len(w)):\n",
    "        if '1' in w[i].text:\n",
    "            break\n",
    "        else:\n",
    "            Writer+=w[i].text\n",
    "            if i!=len(w)-2:\n",
    "                Writer+='|'\n",
    "    Writers=Writer #Writers\n",
    "    \n",
    "    \n",
    "    s=d[2].findAll('a')\n",
    "    Stars=''\n",
    "    for i in range(len(s)):\n",
    "        if 'See' in s[i].text:\n",
    "            break\n",
    "        else:\n",
    "            Stars+=s[i].text\n",
    "            if i!=len(s)-2:\n",
    "                Stars+='|'\n",
    "    Star=Stars #Stars\n",
    "    \n",
    "    \n",
    "    key=soup1.findAll('div',{'class':'see-more inline canwrap'})\n",
    "    ke=key[0].findAll('span',class_='itemprop')\n",
    "    keyword=''\n",
    "    for i in range(len(ke)):\n",
    "        keyword+=ke[i].text\n",
    "        if i!=len(ke)-1:\n",
    "            keyword+='|'\n",
    "\n",
    "    Keywords=keyword #keywords\n",
    "    \n",
    "    de=soup1.findAll('div',{'class':'article','id':'titleDetails'})\n",
    "    det=de[0].findAll('div',{'class':'txt-block'})\n",
    "    detail=''\n",
    "    var=['Budget','Gross USA','Opening Weekend USA','Cumulative Worldwide Gross']\n",
    "    for i in range(len(det)):\n",
    "        for j in range(len(var)): \n",
    "            deta=det[i].text.strip().split(':')\n",
    "            if deta[0] in var[j]:\n",
    "                detail+=var[j]+':'+ deta[1].strip() + '|'  \n",
    "    dl=detail.split('|')\n",
    "    ld=len(detail.split('|'))\n",
    "    for i in range(ld):\n",
    "        try:\n",
    "            if 'Budget' in dl[i]:\n",
    "                Budget=(dl[i].split()[0].split(':')[1].replace(',',''))\n",
    "            elif 'Gross USA' in dl[i]:\n",
    "                Gross_Col=(dl[i].split()[1].split(':')[1].replace(',',''))\n",
    "            elif 'Opening Weekend USA' in dl[i]:\n",
    "                Opening_weekend=(dl[i].split()[2].split(':')[1].replace(',',''))\n",
    "            else:\n",
    "                Worldwide_Gross=(dl[i].split(':')[1].replace(',',''))\n",
    "        except: IndexError \n",
    "    for i in range(len(det)):\n",
    "        deta=det[i].text.strip().split(':')\n",
    "        if 'Production' in deta[0]:\n",
    "            Production=(deta[1].split('\\n')[1].replace(',',' &'))\n",
    "    \n",
    "\n",
    "    \n",
    "    f.write(Movie_name.replace(',',';') +','+ Release_Year +','+ link +','+ Rating +','+ Number_of_User+ ','+RunTime+','+Censor_Board_rating+','+Release_Date+','+Genre+','+Summary.replace(',',':')+','+Director+','+Writers+','+Star+','+Keywords+','+Budget+','+Opening_weekend+','+Gross_Col+','+Worldwide_Gross+','+Production+'\\n')"
   ]
  },
  {
   "cell_type": "code",
   "execution_count": null,
   "metadata": {},
   "outputs": [],
   "source": [
    "f.close()"
   ]
  }
 ],
 "metadata": {
  "kernelspec": {
   "display_name": "Python 3",
   "language": "python",
   "name": "python3"
  },
  "language_info": {
   "codemirror_mode": {
    "name": "ipython",
    "version": 3
   },
   "file_extension": ".py",
   "mimetype": "text/x-python",
   "name": "python",
   "nbconvert_exporter": "python",
   "pygments_lexer": "ipython3",
   "version": "3.6.5"
  }
 },
 "nbformat": 4,
 "nbformat_minor": 2
}
